{
 "cells": [
  {
   "cell_type": "markdown",
   "id": "ae6950a9-91fd-46d4-a5b8-e81845fb8de7",
   "metadata": {},
   "source": [
    "# Analysing LAPD Output generated through Plasma VLab\n",
    "\n",
    "You have two options\n",
    "1. Use the provided sample data path\n",
    "OR\n",
    "2. Provide the path to your own experiment data. This path can be obtained with your own executed experiments in Plasma VLab"
   ]
  },
  {
   "cell_type": "code",
   "execution_count": 1,
   "id": "537949d0-6ba5-4cc3-8e25-9b1e321fc219",
   "metadata": {},
   "outputs": [
    {
     "name": "stdout",
     "output_type": "stream",
     "text": [
      "\u001b[33mWARNING: The directory '/home/jovyan/.cache/pip' or its parent directory is not owned or is not writable by the current user. The cache has been disabled. Check the permissions and owner of that directory. If executing pip with sudo, you should use sudo's -H flag.\u001b[0m\u001b[33m\n",
      "\u001b[0mNote: you may need to restart the kernel to use updated packages.\n",
      "\n",
      "Loaded airavata_jupyter_magic (2.1.4.post4) \n",
      "(current runtime = local)\n",
      "\n",
      "  %authenticate                              -- Authenticate to access high-performance runtimes.\n",
      "  %request_runtime <rt> [args]               -- Request a runtime named <rt> with configuration <args>.\n",
      "                                                Call multiple times to request multiple runtimes.\n",
      "  %restart_runtime <rt>                      -- Restart runtime <rt> if it hangs. This will clear all variables.\n",
      "  %stop_runtime <rt>                         -- Stop runtime <rt> when no longer needed.\n",
      "  %wait_for_runtime <rt>                     -- Wait for runtime <rt> to be ready.\n",
      "  %switch_runtime <rt>                       -- Switch the active runtime to <rt>. All subsequent cells will run here.\n",
      "  %%run_on <rt>                              -- Force a cell to always execute on <rt>, regardless of the active runtime.\n",
      "  %stat_runtime <rt>                         -- Show the status of runtime <rt>.\n",
      "  %copy_data source=<r1:f1> target=<r2:f2>   -- Copy <f1> in <r1> to <f2> in <r2>.\n",
      "  %open_tunnels <tn> --forward=<ports>       -- Open a TCP tunnel on the runtime.\n",
      "  %close_tunnels <tn>                        -- Close a TCP tunnel opened on the runtime.\n",
      "  %run_subprocess <pn> --command=<cmd>\n",
      "                       --forward=<ports>     -- Start a subprocess on the runtime.\n",
      "  %kill_subprocess <pn>                      -- Kill a subprocess started on the runtime.\n",
      "\n"
     ]
    },
    {
     "data": {
      "application/vnd.jupyter.widget-view+json": {
       "model_id": "",
       "version_major": 2,
       "version_minor": 0
      },
      "text/plain": [
       "Output()"
      ]
     },
     "metadata": {},
     "output_type": "display_data"
    },
    {
     "data": {
      "text/html": [
       "<pre style=\"white-space:pre;overflow-x:auto;line-height:normal;font-family:Menlo,'DejaVu Sans Mono',consolas,'Courier New',monospace\">Authenticated.\n",
       "</pre>\n"
      ],
      "text/plain": [
       "Authenticated.\n"
      ]
     },
     "metadata": {},
     "output_type": "display_data"
    },
    {
     "data": {
      "text/html": [
       "<pre style=\"white-space:pre;overflow-x:auto;line-height:normal;font-family:Menlo,'DejaVu Sans Mono',consolas,'Courier New',monospace\"></pre>\n"
      ],
      "text/plain": []
     },
     "metadata": {},
     "output_type": "display_data"
    },
    {
     "data": {
      "text/html": [
       "<pre style=\"white-space:pre;overflow-x:auto;line-height:normal;font-family:Menlo,'DejaVu Sans Mono',consolas,'Courier New',monospace\"></pre>\n"
      ],
      "text/plain": []
     },
     "metadata": {},
     "output_type": "display_data"
    },
    {
     "name": "stdout",
     "output_type": "stream",
     "text": [
      "Requesting runtime=test_cpu...\n",
      "[Gkeyll:cloud, 60 Minutes, 1 Node(s), 4 CPU(s), 1 GPU(s), 4096 MB RAM, 1024 MB VRAM]\n",
      "* modules=[]\n",
      "* libraries=['python=3.11', 'pip']\n",
      "* pip=['postgkyl', 'jupyterlab_widgets', 'ipywidgets', 'ipympl']\n",
      "* mounts=[]\n",
      "Requested runtime=test_cpu\n",
      "Request successful: runtime=test_cpu\n"
     ]
    },
    {
     "data": {
      "application/vnd.jupyter.widget-view+json": {
       "model_id": "b4b20e5a5951413fa6884aa1d06b0d11",
       "version_major": 2,
       "version_minor": 0
      },
      "text/plain": [
       "Output()"
      ]
     },
     "metadata": {},
     "output_type": "display_data"
    },
    {
     "data": {
      "text/html": [
       "<pre style=\"white-space:pre;overflow-x:auto;line-height:normal;font-family:Menlo,'DejaVu Sans Mono',consolas,'Courier New',monospace\"></pre>\n"
      ],
      "text/plain": []
     },
     "metadata": {},
     "output_type": "display_data"
    },
    {
     "name": "stdout",
     "output_type": "stream",
     "text": [
      "local:/tmp/connection_a1at81ec.json --> test_cpu:connection_a1at81ec.json... [200]\n",
      "started proc_name=test_cpu_kernel on rt=test_cpu. pid=2428\n",
      "forwarding ports=[19330, 19331, 19332, 19333, 19334]\n",
      "test_cpu:19330 -> access via 18.118.140.230:10000\n",
      "test_cpu:19331 -> access via 18.118.140.230:10001\n",
      "test_cpu:19332 -> access via 18.118.140.230:10002\n",
      "test_cpu:19333 -> access via 18.118.140.230:10003\n",
      "test_cpu:19334 -> access via 18.118.140.230:10004\n",
      "started ipykernel tunnels for test_cpu at 18.118.140.230\n",
      "started ipykernel client for test_cpu\n",
      "Remote Jupyter kernel launched and connected for runtime=test_cpu.\n",
      "Switched to runtime=test_cpu.\n"
     ]
    }
   ],
   "source": [
    "%pip install -qU \"airavata-python-sdk[notebook]\"\n",
    "import airavata_jupyter_magic\n",
    "\n",
    "%authenticate\n",
    "\n",
    "# PLEASE NOTE: At a given time, ONLY run a single analysis in one of the available clusters: Anvil OR Jetstream. \n",
    "# Make sure the resoruce you want to execute on is enabled.\n",
    "\n",
    "# Anvil\n",
    "#%request_runtime test_cpu --file=cybershuttle.yml --group=Gkeyll --walltime=60 --use=AnvilCPU:shared\n",
    "\n",
    "# Jetstream\n",
    "%request_runtime test_cpu --file=cybershuttle.yml --group=Gkeyll --walltime=60 --use=Gkeyll:cloud\n",
    "\n",
    "%wait_for_runtime test_cpu --live\n",
    "%switch_runtime test_cpu"
   ]
  },
  {
   "cell_type": "code",
   "execution_count": 2,
   "id": "a98c2215-0be7-4a29-9531-c2b225305d79",
   "metadata": {},
   "outputs": [
    {
     "name": "stdout",
     "output_type": "stream",
     "text": [
      "executing cell on test_cpu...\n",
      "waiting for cell to finish on test_cpu...\n",
      "LAPD3D5Mg0-field-energy.gkyl  LAPD3D5Mg0-field_32.gkyl\n",
      "LAPD3D5Mg0-field_0.gkyl       LAPD3D5Mg0-field_33.gkyl\n",
      "LAPD3D5Mg0-field_1.gkyl       LAPD3D5Mg0-field_34.gkyl\n",
      "LAPD3D5Mg0-field_10.gkyl      LAPD3D5Mg0-field_35.gkyl\n",
      "LAPD3D5Mg0-field_100.gkyl     LAPD3D5Mg0-field_36.gkyl\n",
      "LAPD3D5Mg0-field_101.gkyl     LAPD3D5Mg0-field_37.gkyl\n",
      "LAPD3D5Mg0-field_102.gkyl     LAPD3D5Mg0-field_38.gkyl\n",
      "LAPD3D5Mg0-field_103.gkyl     LAPD3D5Mg0-field_39.gkyl\n",
      "LAPD3D5Mg0-field_104.gkyl     LAPD3D5Mg0-field_4.gkyl\n",
      "LAPD3D5Mg0-field_105.gkyl     LAPD3D5Mg0-field_40.gkyl\n",
      "LAPD3D5Mg0-field_106.gkyl     LAPD3D5Mg0-field_41.gkyl\n",
      "LAPD3D5Mg0-field_107.gkyl     LAPD3D5Mg0-field_42.gkyl\n",
      "LAPD3D5Mg0-field_108.gkyl     LAPD3D5Mg0-field_43.gkyl\n",
      "LAPD3D5Mg0-field_109.gkyl     LAPD3D5Mg0-field_44.gkyl\n",
      "LAPD3D5Mg0-field_11.gkyl      LAPD3D5Mg0-field_45.gkyl\n",
      "LAPD3D5Mg0-field_110.gkyl     LAPD3D5Mg0-field_46.gkyl\n",
      "LAPD3D5Mg0-field_111.gkyl     LAPD3D5Mg0-field_47.gkyl\n",
      "LAPD3D5Mg0-field_112.gkyl     LAPD3D5Mg0-field_48.gkyl\n",
      "LAPD3D5Mg0-field_113.gkyl     LAPD3D5Mg0-field_49.gkyl\n",
      "LAPD3D5Mg0-field_114.gkyl     LAPD3D5Mg0-field_5.gkyl\n",
      "LAPD3D5Mg0-field_115.gkyl     LAPD3D5Mg0-field_50.gkyl\n",
      "LAPD3D5Mg0-field_116.gkyl     LAPD3D5Mg0-field_51.gkyl\n",
      "LAPD3D5Mg0-field_117.gkyl     LAPD3D5Mg0-field_52.gkyl\n",
      "LAPD3D5Mg0-field_118.gkyl     LAPD3D5Mg0-field_53.gkyl\n",
      "LAPD3D5Mg0-field_119.gkyl     LAPD3D5Mg0-field_54.gkyl\n",
      "LAPD3D5Mg0-field_12.gkyl      LAPD3D5Mg0-field_55.gkyl\n",
      "LAPD3D5Mg0-field_120.gkyl     LAPD3D5Mg0-field_56.gkyl\n",
      "LAPD3D5Mg0-field_121.gkyl     LAPD3D5Mg0-field_57.gkyl\n",
      "LAPD3D5Mg0-field_122.gkyl     LAPD3D5Mg0-field_58.gkyl\n",
      "LAPD3D5Mg0-field_123.gkyl     LAPD3D5Mg0-field_59.gkyl\n",
      "LAPD3D5Mg0-field_124.gkyl     LAPD3D5Mg0-field_6.gkyl\n",
      "LAPD3D5Mg0-field_125.gkyl     LAPD3D5Mg0-field_60.gkyl\n",
      "LAPD3D5Mg0-field_126.gkyl     LAPD3D5Mg0-field_61.gkyl\n",
      "LAPD3D5Mg0-field_127.gkyl     LAPD3D5Mg0-field_62.gkyl\n",
      "LAPD3D5Mg0-field_128.gkyl     LAPD3D5Mg0-field_63.gkyl\n",
      "LAPD3D5Mg0-field_129.gkyl     LAPD3D5Mg0-field_64.gkyl\n",
      "LAPD3D5Mg0-field_13.gkyl      LAPD3D5Mg0-field_65.gkyl\n",
      "LAPD3D5Mg0-field_130.gkyl     LAPD3D5Mg0-field_66.gkyl\n",
      "LAPD3D5Mg0-field_131.gkyl     LAPD3D5Mg0-field_67.gkyl\n",
      "LAPD3D5Mg0-field_132.gkyl     LAPD3D5Mg0-field_68.gkyl\n",
      "LAPD3D5Mg0-field_133.gkyl     LAPD3D5Mg0-field_69.gkyl\n",
      "LAPD3D5Mg0-field_134.gkyl     LAPD3D5Mg0-field_7.gkyl\n",
      "LAPD3D5Mg0-field_135.gkyl     LAPD3D5Mg0-field_70.gkyl\n",
      "LAPD3D5Mg0-field_136.gkyl     LAPD3D5Mg0-field_71.gkyl\n",
      "LAPD3D5Mg0-field_137.gkyl     LAPD3D5Mg0-field_72.gkyl\n",
      "LAPD3D5Mg0-field_138.gkyl     LAPD3D5Mg0-field_73.gkyl\n",
      "LAPD3D5Mg0-field_139.gkyl     LAPD3D5Mg0-field_74.gkyl\n",
      "LAPD3D5Mg0-field_14.gkyl      LAPD3D5Mg0-field_75.gkyl\n",
      "LAPD3D5Mg0-field_140.gkyl     LAPD3D5Mg0-field_76.gkyl\n",
      "LAPD3D5Mg0-field_141.gkyl     LAPD3D5Mg0-field_77.gkyl\n",
      "LAPD3D5Mg0-field_142.gkyl     LAPD3D5Mg0-field_78.gkyl\n",
      "LAPD3D5Mg0-field_143.gkyl     LAPD3D5Mg0-field_79.gkyl\n",
      "LAPD3D5Mg0-field_144.gkyl     LAPD3D5Mg0-field_8.gkyl\n",
      "LAPD3D5Mg0-field_145.gkyl     LAPD3D5Mg0-field_80.gkyl\n",
      "LAPD3D5Mg0-field_146.gkyl     LAPD3D5Mg0-field_81.gkyl\n",
      "LAPD3D5Mg0-field_147.gkyl     LAPD3D5Mg0-field_82.gkyl\n",
      "LAPD3D5Mg0-field_148.gkyl     LAPD3D5Mg0-field_83.gkyl\n",
      "LAPD3D5Mg0-field_149.gkyl     LAPD3D5Mg0-field_84.gkyl\n",
      "LAPD3D5Mg0-field_15.gkyl      LAPD3D5Mg0-field_85.gkyl\n",
      "LAPD3D5Mg0-field_150.gkyl     LAPD3D5Mg0-field_86.gkyl\n",
      "LAPD3D5Mg0-field_16.gkyl      LAPD3D5Mg0-field_87.gkyl\n",
      "LAPD3D5Mg0-field_17.gkyl      LAPD3D5Mg0-field_88.gkyl\n",
      "LAPD3D5Mg0-field_18.gkyl      LAPD3D5Mg0-field_89.gkyl\n",
      "LAPD3D5Mg0-field_19.gkyl      LAPD3D5Mg0-field_9.gkyl\n",
      "LAPD3D5Mg0-field_2.gkyl       LAPD3D5Mg0-field_90.gkyl\n",
      "LAPD3D5Mg0-field_20.gkyl      LAPD3D5Mg0-field_91.gkyl\n",
      "LAPD3D5Mg0-field_21.gkyl      LAPD3D5Mg0-field_92.gkyl\n",
      "LAPD3D5Mg0-field_22.gkyl      LAPD3D5Mg0-field_93.gkyl\n",
      "LAPD3D5Mg0-field_23.gkyl      LAPD3D5Mg0-field_94.gkyl\n",
      "LAPD3D5Mg0-field_24.gkyl      LAPD3D5Mg0-field_95.gkyl\n",
      "LAPD3D5Mg0-field_25.gkyl      LAPD3D5Mg0-field_96.gkyl\n",
      "LAPD3D5Mg0-field_26.gkyl      LAPD3D5Mg0-field_97.gkyl\n",
      "LAPD3D5Mg0-field_27.gkyl      LAPD3D5Mg0-field_98.gkyl\n",
      "LAPD3D5Mg0-field_28.gkyl      LAPD3D5Mg0-field_99.gkyl\n",
      "LAPD3D5Mg0-field_29.gkyl      LAPD3D5Mg0_field_x0y0_z2pts.png\n",
      "LAPD3D5Mg0-field_3.gkyl       LAPD3D5Mg0_field_x0y0_zTime.png\n",
      "LAPD3D5Mg0-field_30.gkyl      field_files.zip\n",
      "LAPD3D5Mg0-field_31.gkyl\n",
      "cell finished on test_cpu.\n"
     ]
    }
   ],
   "source": [
    "#Provide your own LAPD output path from https://vlab.plasmascience.scigap.org/ experiment. If not, use the provided Example path\n",
    "\n",
    "#Example Path\n",
    "data_path = \"/export/vlab_workdirs/LDAP-Sample/\"\n",
    "!ls {data_path}\n",
    "\n",
    "\n",
    "#Your LAPD Path (Comment the above Example data path. Add your Path here and uncomment.)\n",
    "#data_path = \"/export/vlab_workdirs/PROCESS_79949f46-eb69-4425-8cd3-e2cd95b07c37/\""
   ]
  },
  {
   "cell_type": "code",
   "execution_count": 3,
   "id": "54269065-55f7-4dd4-91b5-b3c93cf1eee5",
   "metadata": {},
   "outputs": [
    {
     "name": "stdout",
     "output_type": "stream",
     "text": [
      "executing cell on test_cpu...\n",
      "waiting for cell to finish on test_cpu...\n"
     ]
    },
    {
     "data": {
      "application/vnd.jupyter.widget-view+json": {
       "model_id": "4375a55f79174ac0b147d064dbd7c7f2",
       "version_major": 2,
       "version_minor": 0
      },
      "text/plain": [
       "RadioButtons(description='What is your quest?', options=('To seek the holy grail!', \"I'm not telling.\"), value…"
      ]
     },
     "metadata": {},
     "output_type": "display_data"
    },
    {
     "data": {
      "application/vnd.jupyter.widget-view+json": {
       "model_id": "730997230275430eb1b252050dcfcec5",
       "version_major": 2,
       "version_minor": 0
      },
      "text/plain": [
       "RadioButtons(description='What is your favorite colour?', options=('Red', 'Blue', 'Green'), value='Red')"
      ]
     },
     "metadata": {},
     "output_type": "display_data"
    },
    {
     "data": {
      "application/vnd.jupyter.widget-view+json": {
       "model_id": "57843973f4924d8cb989c44a8eaade35",
       "version_major": 2,
       "version_minor": 0
      },
      "text/plain": [
       "Label(value='What is the airspeed velocity of an unladen swallow? (m/s)')"
      ]
     },
     "metadata": {},
     "output_type": "display_data"
    },
    {
     "data": {
      "application/vnd.jupyter.widget-view+json": {
       "model_id": "7c79391e178441c2aeb31d4dd0612ad9",
       "version_major": 2,
       "version_minor": 0
      },
      "text/plain": [
       "FloatSlider(value=7.5, max=10.0)"
      ]
     },
     "metadata": {},
     "output_type": "display_data"
    },
    {
     "data": {
      "application/vnd.jupyter.widget-view+json": {
       "model_id": "c34aa5024f124f878d38aac6c5c598db",
       "version_major": 2,
       "version_minor": 0
      },
      "text/plain": [
       "Label(value='')"
      ]
     },
     "metadata": {},
     "output_type": "display_data"
    },
    {
     "name": "stdout",
     "output_type": "stream",
     "text": [
      "cell finished on test_cpu.\n"
     ]
    }
   ],
   "source": [
    "from ipywidgets import widgets\n",
    "from ipywidgets import FloatSlider\n",
    "from IPython.display import display # Optional: to explicitly display the widget\n",
    "\n",
    "\n",
    "# Create a couple RadioButtons widgets\n",
    "optA = widgets.RadioButtons(\n",
    "    options=['To seek the holy grail!', 'I\\'m not telling.'],  #  Provide the list of options\n",
    "    description='What is your quest?', # Optional: Add a description\n",
    "    disabled=False  # Optional: Enable/disable the widget\n",
    ")\n",
    "optB = widgets.RadioButtons(\n",
    "    options=['Red', 'Blue', 'Green'],  #  Provide the list of options\n",
    "    description='What is your favorite colour?', # Optional: Add a description\n",
    "    disabled=False  # Optional: Enable/disable the widget\n",
    ")\n",
    "\n",
    "# Create a FloatSlider\n",
    "float_slider = widgets.FloatSlider(\n",
    "    value=7.5,\n",
    "    min=0.0,\n",
    "    max=10.0,\n",
    "    step=0.1,\n",
    "    readout=True  # Hide the default readout\n",
    ")\n",
    "\n",
    "value_display = widgets.Label() # Create a label widget to display the value\n",
    "\n",
    "def update_value_display(change):\n",
    "    value_display.value = f\"Answer: {change['new']:.1f}\"\n",
    "\n",
    "float_slider.observe(update_value_display, names='value') # Link the slider and the label\n",
    "description = widgets.Label(\"What is the airspeed velocity of an unladen swallow? (m/s)\")\n",
    "display(optA,optB,description,float_slider,value_display)\n",
    "\n"
   ]
  },
  {
   "cell_type": "code",
   "execution_count": 8,
   "id": "b8d69005-b414-42f3-852a-1cb4e3e84b59",
   "metadata": {},
   "outputs": [
    {
     "name": "stdout",
     "output_type": "stream",
     "text": [
      "executing cell on test_cpu...\n",
      "waiting for cell to finish on test_cpu...\n",
      "Available kernels:\n",
      "  python3    /export/cybershuttle-home/scratch/envs/5efadfec/share/jupyter/kernels/python3\n",
      "cat: /opt/conda/share/jupyter/kernels/python3/kernel.json: No such file or directory\n",
      "Python 3.11.13\n",
      "Package                 Version\n",
      "----------------------- -----------\n",
      "asttokens               3.0.0\n",
      "blinker                 1.9.0\n",
      "blosc2                  3.2.1\n",
      "certifi                 2025.1.31\n",
      "charset-normalizer      3.4.1\n",
      "click                   8.1.8\n",
      "comm                    0.2.2\n",
      "contourpy               1.3.1\n",
      "cycler                  0.12.1\n",
      "debugpy                 1.8.14\n",
      "decorator               5.2.1\n",
      "exceptiongroup          1.3.0\n",
      "executing               2.2.0\n",
      "Flask                   3.1.1\n",
      "fonttools               4.56.0\n",
      "idna                    3.10\n",
      "importlib_metadata      8.7.0\n",
      "ipykernel               6.29.5\n",
      "ipympl                  0.9.7\n",
      "ipython                 9.3.0\n",
      "ipython_pygments_lexers 1.1.1\n",
      "ipywidgets              8.1.7\n",
      "itsdangerous            2.2.0\n",
      "jedi                    0.19.2\n",
      "Jinja2                  3.1.6\n",
      "jupyter_client          8.6.3\n",
      "jupyter_core            5.8.1\n",
      "jupyterlab_widgets      3.0.15\n",
      "kiwisolver              1.4.8\n",
      "MarkupSafe              3.0.2\n",
      "matplotlib              3.10.1\n",
      "matplotlib-inline       0.1.7\n",
      "mpmath                  1.3.0\n",
      "msgpack                 1.1.0\n",
      "ndindex                 1.9.2\n",
      "nest_asyncio            1.6.0\n",
      "numexpr                 2.10.2\n",
      "numpy                   1.26.4\n",
      "packaging               24.2\n",
      "parso                   0.8.4\n",
      "pexpect                 4.9.0\n",
      "pickleshare             0.7.5\n",
      "pillow                  11.1.0\n",
      "pip                     25.1.1\n",
      "platformdirs            4.3.7\n",
      "postgkyl                1.7.6\n",
      "prompt_toolkit          3.0.51\n",
      "psutil                  7.0.0\n",
      "ptyprocess              0.7.0\n",
      "pure_eval               0.2.3\n",
      "py-cpuinfo              9.0.0\n",
      "Pygments                2.19.1\n",
      "pyparsing               3.2.3\n",
      "python-dateutil         2.9.0.post0\n",
      "pyzmq                   26.4.0\n",
      "requests                2.32.3\n",
      "scipy                   1.15.2\n",
      "setuptools              80.9.0\n",
      "six                     1.17.0\n",
      "stack_data              0.6.3\n",
      "sympy                   1.13.3\n",
      "tables                  3.10.2\n",
      "tornado                 6.5.1\n",
      "traitlets               5.14.3\n",
      "typing_extensions       4.13.0\n",
      "urllib3                 2.3.0\n",
      "wcwidth                 0.2.13\n",
      "Werkzeug                3.1.3\n",
      "wheel                   0.45.1\n",
      "widgetsnbextension      4.0.14\n",
      "zipp                    3.22.0\n",
      "cell finished on test_cpu.\n"
     ]
    }
   ],
   "source": [
    "!jupyter kernelspec list\n",
    "!cat /opt/conda/share/jupyter/kernels/python3/kernel.json\n",
    "!python --version\n",
    "!pip list"
   ]
  },
  {
   "cell_type": "code",
   "execution_count": 7,
   "id": "d677192d-9f75-4616-a312-04b209bd123b",
   "metadata": {},
   "outputs": [
    {
     "name": "stdout",
     "output_type": "stream",
     "text": [
      "executing cell on test_cpu...\n",
      "waiting for cell to finish on test_cpu...\n",
      "You selected: To seek the holy grail!, Red, 7.5\n",
      "To seek the holy grail!\n",
      "cell finished on test_cpu.\n"
     ]
    }
   ],
   "source": [
    "print(f\"You selected: {optA.value}, {optB.value}, {float_slider.value}\")\n",
    "x=optA.value\n",
    "!echo {optA.value}"
   ]
  },
  {
   "cell_type": "code",
   "execution_count": 10,
   "id": "e1bd42e6-550d-40c9-9f0e-39d63544010e",
   "metadata": {},
   "outputs": [
    {
     "name": "stderr",
     "output_type": "stream",
     "text": [
      "bash: line 18: /export/vlabApps/lapd/lapd.sh: No such file or directory\n"
     ]
    },
    {
     "ename": "CalledProcessError",
     "evalue": "Command 'b'date=$(date +\"%Y-%H-%M-%S\")\\nmkdir run_$date\\ncd run_$date\\nexport GKYL=/export/g0soft/gkeyllSoft/gkylzero/bin/gkyl\\nexport PGKYL_ENV=/export/g0dev/pgkyl/bin/activate\\ngrid=\"16x150\"\\ntend=10.0\\nnframes=20\\nbkgrnd=\"Flat_vA_profile.txt\"\\nj0=1.0e4\\ndriveFreq=7.64e4\\nantRamp=3.27e-6\\ntAntOff=1.96e-05\\nlAnt=0.2178\\nelcTemp=7\\nteti=5\\nn0=7e18\\n/export/vlabApps/lapd/lapd.sh $grid $tend $nframes $bkgrnd $j0 $driveFreq $antRamp $tAntOff $lAnt $elcTemp $teti $n0\\n'' returned non-zero exit status 127.",
     "output_type": "error",
     "traceback": [
      "\u001b[0;31m---------------------------------------------------------------------------\u001b[0m",
      "\u001b[0;31mCalledProcessError\u001b[0m                        Traceback (most recent call last)",
      "Cell \u001b[0;32mIn[10], line 1\u001b[0m\n\u001b[0;32m----> 1\u001b[0m \u001b[43mget_ipython\u001b[49m\u001b[43m(\u001b[49m\u001b[43m)\u001b[49m\u001b[38;5;241;43m.\u001b[39;49m\u001b[43mrun_cell_magic\u001b[49m\u001b[43m(\u001b[49m\u001b[38;5;124;43m'\u001b[39;49m\u001b[38;5;124;43mbash\u001b[39;49m\u001b[38;5;124;43m'\u001b[39;49m\u001b[43m,\u001b[49m\u001b[43m \u001b[49m\u001b[38;5;124;43m'\u001b[39;49m\u001b[38;5;124;43m'\u001b[39;49m\u001b[43m,\u001b[49m\u001b[43m \u001b[49m\u001b[38;5;124;43m'\u001b[39;49m\u001b[38;5;124;43mdate=$(date +\u001b[39;49m\u001b[38;5;124;43m\"\u001b[39;49m\u001b[38;5;124;43m%\u001b[39;49m\u001b[38;5;124;43mY-\u001b[39;49m\u001b[38;5;124;43m%\u001b[39;49m\u001b[38;5;124;43mH-\u001b[39;49m\u001b[38;5;124;43m%\u001b[39;49m\u001b[38;5;124;43mM-\u001b[39;49m\u001b[38;5;124;43m%\u001b[39;49m\u001b[38;5;124;43mS\u001b[39;49m\u001b[38;5;124;43m\"\u001b[39;49m\u001b[38;5;124;43m)\u001b[39;49m\u001b[38;5;130;43;01m\\n\u001b[39;49;00m\u001b[38;5;124;43mmkdir run_$date\u001b[39;49m\u001b[38;5;130;43;01m\\n\u001b[39;49;00m\u001b[38;5;124;43mcd run_$date\u001b[39;49m\u001b[38;5;130;43;01m\\n\u001b[39;49;00m\u001b[38;5;124;43mexport GKYL=/export/g0soft/gkeyllSoft/gkylzero/bin/gkyl\u001b[39;49m\u001b[38;5;130;43;01m\\n\u001b[39;49;00m\u001b[38;5;124;43mexport PGKYL_ENV=/export/g0dev/pgkyl/bin/activate\u001b[39;49m\u001b[38;5;130;43;01m\\n\u001b[39;49;00m\u001b[38;5;124;43mgrid=\u001b[39;49m\u001b[38;5;124;43m\"\u001b[39;49m\u001b[38;5;124;43m16x150\u001b[39;49m\u001b[38;5;124;43m\"\u001b[39;49m\u001b[38;5;130;43;01m\\n\u001b[39;49;00m\u001b[38;5;124;43mtend=10.0\u001b[39;49m\u001b[38;5;130;43;01m\\n\u001b[39;49;00m\u001b[38;5;124;43mnframes=20\u001b[39;49m\u001b[38;5;130;43;01m\\n\u001b[39;49;00m\u001b[38;5;124;43mbkgrnd=\u001b[39;49m\u001b[38;5;124;43m\"\u001b[39;49m\u001b[38;5;124;43mFlat_vA_profile.txt\u001b[39;49m\u001b[38;5;124;43m\"\u001b[39;49m\u001b[38;5;130;43;01m\\n\u001b[39;49;00m\u001b[38;5;124;43mj0=1.0e4\u001b[39;49m\u001b[38;5;130;43;01m\\n\u001b[39;49;00m\u001b[38;5;124;43mdriveFreq=7.64e4\u001b[39;49m\u001b[38;5;130;43;01m\\n\u001b[39;49;00m\u001b[38;5;124;43mantRamp=3.27e-6\u001b[39;49m\u001b[38;5;130;43;01m\\n\u001b[39;49;00m\u001b[38;5;124;43mtAntOff=1.96e-05\u001b[39;49m\u001b[38;5;130;43;01m\\n\u001b[39;49;00m\u001b[38;5;124;43mlAnt=0.2178\u001b[39;49m\u001b[38;5;130;43;01m\\n\u001b[39;49;00m\u001b[38;5;124;43melcTemp=7\u001b[39;49m\u001b[38;5;130;43;01m\\n\u001b[39;49;00m\u001b[38;5;124;43mteti=5\u001b[39;49m\u001b[38;5;130;43;01m\\n\u001b[39;49;00m\u001b[38;5;124;43mn0=7e18\u001b[39;49m\u001b[38;5;130;43;01m\\n\u001b[39;49;00m\u001b[38;5;124;43m/export/vlabApps/lapd/lapd.sh $grid $tend $nframes $bkgrnd $j0 $driveFreq $antRamp $tAntOff $lAnt $elcTemp $teti $n0\u001b[39;49m\u001b[38;5;130;43;01m\\n\u001b[39;49;00m\u001b[38;5;124;43m'\u001b[39;49m\u001b[43m)\u001b[49m\n",
      "File \u001b[0;32m/opt/conda/lib/python3.11/site-packages/IPython/core/interactiveshell.py:2493\u001b[0m, in \u001b[0;36mInteractiveShell.run_cell_magic\u001b[0;34m(self, magic_name, line, cell)\u001b[0m\n\u001b[1;32m   2491\u001b[0m \u001b[38;5;28;01mwith\u001b[39;00m \u001b[38;5;28mself\u001b[39m\u001b[38;5;241m.\u001b[39mbuiltin_trap:\n\u001b[1;32m   2492\u001b[0m     args \u001b[38;5;241m=\u001b[39m (magic_arg_s, cell)\n\u001b[0;32m-> 2493\u001b[0m     result \u001b[38;5;241m=\u001b[39m \u001b[43mfn\u001b[49m\u001b[43m(\u001b[49m\u001b[38;5;241;43m*\u001b[39;49m\u001b[43margs\u001b[49m\u001b[43m,\u001b[49m\u001b[43m \u001b[49m\u001b[38;5;241;43m*\u001b[39;49m\u001b[38;5;241;43m*\u001b[39;49m\u001b[43mkwargs\u001b[49m\u001b[43m)\u001b[49m\n\u001b[1;32m   2495\u001b[0m \u001b[38;5;66;03m# The code below prevents the output from being displayed\u001b[39;00m\n\u001b[1;32m   2496\u001b[0m \u001b[38;5;66;03m# when using magics with decorator @output_can_be_silenced\u001b[39;00m\n\u001b[1;32m   2497\u001b[0m \u001b[38;5;66;03m# when the last Python token in the expression is a ';'.\u001b[39;00m\n\u001b[1;32m   2498\u001b[0m \u001b[38;5;28;01mif\u001b[39;00m \u001b[38;5;28mgetattr\u001b[39m(fn, magic\u001b[38;5;241m.\u001b[39mMAGIC_OUTPUT_CAN_BE_SILENCED, \u001b[38;5;28;01mFalse\u001b[39;00m):\n",
      "File \u001b[0;32m/opt/conda/lib/python3.11/site-packages/IPython/core/magics/script.py:154\u001b[0m, in \u001b[0;36mScriptMagics._make_script_magic.<locals>.named_script_magic\u001b[0;34m(line, cell)\u001b[0m\n\u001b[1;32m    152\u001b[0m \u001b[38;5;28;01melse\u001b[39;00m:\n\u001b[1;32m    153\u001b[0m     line \u001b[38;5;241m=\u001b[39m script\n\u001b[0;32m--> 154\u001b[0m \u001b[38;5;28;01mreturn\u001b[39;00m \u001b[38;5;28;43mself\u001b[39;49m\u001b[38;5;241;43m.\u001b[39;49m\u001b[43mshebang\u001b[49m\u001b[43m(\u001b[49m\u001b[43mline\u001b[49m\u001b[43m,\u001b[49m\u001b[43m \u001b[49m\u001b[43mcell\u001b[49m\u001b[43m)\u001b[49m\n",
      "File \u001b[0;32m/opt/conda/lib/python3.11/site-packages/IPython/core/magics/script.py:314\u001b[0m, in \u001b[0;36mScriptMagics.shebang\u001b[0;34m(self, line, cell)\u001b[0m\n\u001b[1;32m    309\u001b[0m \u001b[38;5;28;01mif\u001b[39;00m args\u001b[38;5;241m.\u001b[39mraise_error \u001b[38;5;129;01mand\u001b[39;00m p\u001b[38;5;241m.\u001b[39mreturncode \u001b[38;5;241m!=\u001b[39m \u001b[38;5;241m0\u001b[39m:\n\u001b[1;32m    310\u001b[0m     \u001b[38;5;66;03m# If we get here and p.returncode is still None, we must have\u001b[39;00m\n\u001b[1;32m    311\u001b[0m     \u001b[38;5;66;03m# killed it but not yet seen its return code. We don't wait for it,\u001b[39;00m\n\u001b[1;32m    312\u001b[0m     \u001b[38;5;66;03m# in case it's stuck in uninterruptible sleep. -9 = SIGKILL\u001b[39;00m\n\u001b[1;32m    313\u001b[0m     rc \u001b[38;5;241m=\u001b[39m p\u001b[38;5;241m.\u001b[39mreturncode \u001b[38;5;129;01mor\u001b[39;00m \u001b[38;5;241m-\u001b[39m\u001b[38;5;241m9\u001b[39m\n\u001b[0;32m--> 314\u001b[0m     \u001b[38;5;28;01mraise\u001b[39;00m CalledProcessError(rc, cell)\n",
      "\u001b[0;31mCalledProcessError\u001b[0m: Command 'b'date=$(date +\"%Y-%H-%M-%S\")\\nmkdir run_$date\\ncd run_$date\\nexport GKYL=/export/g0soft/gkeyllSoft/gkylzero/bin/gkyl\\nexport PGKYL_ENV=/export/g0dev/pgkyl/bin/activate\\ngrid=\"16x150\"\\ntend=10.0\\nnframes=20\\nbkgrnd=\"Flat_vA_profile.txt\"\\nj0=1.0e4\\ndriveFreq=7.64e4\\nantRamp=3.27e-6\\ntAntOff=1.96e-05\\nlAnt=0.2178\\nelcTemp=7\\nteti=5\\nn0=7e18\\n/export/vlabApps/lapd/lapd.sh $grid $tend $nframes $bkgrnd $j0 $driveFreq $antRamp $tAntOff $lAnt $elcTemp $teti $n0\\n'' returned non-zero exit status 127."
     ]
    }
   ],
   "source": [
    "%%bash\n",
    "date=$(date +\"%Y-%H-%M-%S\")\n",
    "mkdir run_$date\n",
    "cd run_$date\n",
    "export GKYL=/export/g0soft/gkeyllSoft/gkylzero/bin/gkyl\n",
    "export PGKYL_ENV=/export/g0dev/pgkyl/bin/activate\n",
    "grid=\"16x150\"\n",
    "tend=10.0\n",
    "nframes=20\n",
    "bkgrnd=\"Flat_vA_profile.txt\"\n",
    "j0=1.0e4\n",
    "driveFreq=7.64e4\n",
    "antRamp=3.27e-6\n",
    "tAntOff=1.96e-05\n",
    "lAnt=0.2178\n",
    "elcTemp=7\n",
    "teti=5\n",
    "n0=7e18\n",
    "/export/vlabApps/lapd/lapd.sh $grid $tend $nframes $bkgrnd $j0 $driveFreq $antRamp $tAntOff $lAnt $elcTemp $teti $n0"
   ]
  },
  {
   "cell_type": "code",
   "execution_count": 16,
   "id": "8ee5df33-6781-4a6c-bbad-6f91e50eb809",
   "metadata": {},
   "outputs": [
    {
     "name": "stdout",
     "output_type": "stream",
     "text": [
      "executing cell on test_cpu...\n",
      "waiting for cell to finish on test_cpu...\n",
      "A2125638087         \u001b[0m\u001b[01;32mairavata-agent\u001b[0m*           job_812284673.slurm  test.sh\n",
      "GkeyllAgent.stderr  \u001b[01;36mapplication\u001b[0m@              kernel.py            \u001b[01;32mtest2.sh\u001b[0m*\n",
      "GkeyllAgent.stdout  connection_zjabj0j0.json  \u001b[01;32mmicromamba\u001b[0m*\n",
      "cell finished on test_cpu.\n"
     ]
    }
   ],
   "source": [
    "ls ."
   ]
  },
  {
   "cell_type": "code",
   "execution_count": 3,
   "id": "593f84db-c611-42ba-a238-74f6c2ee181a",
   "metadata": {},
   "outputs": [
    {
     "name": "stdout",
     "output_type": "stream",
     "text": [
      "executing cell on test_cpu...\n",
      "waiting for cell to finish on test_cpu...\n",
      "cell finished on test_cpu.\n"
     ]
    }
   ],
   "source": [
    "import matplotlib\n",
    "import matplotlib.pyplot as plt\n",
    "import postgkyl as pg\n",
    "import numpy as np\n",
    "import shutil\n",
    "\n",
    "SMALL_SIZE = 16\n",
    "MEDIUM_SIZE = 18\n",
    "BIGGER_SIZE = 22\n",
    "plt.rc('font', size=MEDIUM_SIZE)          # controls default text sizes\n",
    "plt.rc('axes', titlesize=MEDIUM_SIZE)     # fontsize of the axes title\n",
    "plt.rc('axes', labelsize=BIGGER_SIZE)    # fontsize of the x and y labels\n",
    "plt.rc('xtick', labelsize=MEDIUM_SIZE)    # fontsize of the tick labels\n",
    "plt.rc('ytick', labelsize=MEDIUM_SIZE)    # fontsize of the tick labels\n",
    "plt.rc('legend', fontsize=MEDIUM_SIZE)    # legend fontsize\n",
    "plt.rc('figure', titlesize=MEDIUM_SIZE)  # fontsize of the figure title\n",
    "plt.rcParams[\"font.weight\"] = \"bold\"\n",
    "plt.rcParams[\"axes.labelweight\"] = \"bold\"\n",
    "\n",
    "#Note: This cell may execute longer if the job is not yet active in the remote cluster. Please pause till the status =READY message appears."
   ]
  },
  {
   "cell_type": "code",
   "execution_count": 4,
   "id": "97ea1806-2494-4950-8a94-2ebbc8bfc52c",
   "metadata": {},
   "outputs": [
    {
     "name": "stdout",
     "output_type": "stream",
     "text": [
      "executing cell on test_cpu...\n",
      "waiting for cell to finish on test_cpu...\n",
      "cell finished on test_cpu.\n"
     ]
    }
   ],
   "source": [
    "# Physical constants and derived parameters\n",
    "gas_gamma = 5.0 / 3.0 # Adiabatic index.\n",
    "cFac = 1000 # Scales the speed of light\n",
    "epsilon0 = 8.854e-12*cFac # Permittivity of free space.\n",
    "mu0 =  1.257e-6 # Permeability of free space.\n",
    "light_speed = 1.0/np.sqrt(epsilon0*mu0) # Speed of light. \n",
    "eV = 1.6e-19 # electron Volt for charge and temperature\n",
    "mass_proton = 1.67e-27\n",
    "mass_ion = 4.*mass_proton # Helium mass.\n",
    "charge_ion = 1.0*eV # Ion charge.\n",
    "mass_elc = mass_ion / 100 # Reduced electron mass.\n",
    "charge_elc = -1.0*eV # Electron charge.\n",
    "Te_over_Ti = 5.0 # Electron temperature / ion temperature.\n",
    "n0 = 7.e18 # Number density.\n",
    "wpi = np.sqrt(charge_ion**2 * n0 / (epsilon0 * mass_ion)) # Ion plasma frequency. \n",
    "wpe = np.sqrt(charge_ion**2 * n0 / (epsilon0 * mass_elc)) # Electron plasma frequency. \n",
    "di = light_speed/wpi # Ion inertial length. \n",
    "de = light_speed/wpe # Electron inertial length. \n",
    "B0 = 0.08 # Reference magnetic field strength at z = 0.\n",
    "omega_ci0 = charge_ion * B0 / mass_ion # Reference ion cyclotron frequency. \n",
    "vA0p = B0/np.sqrt(mu0*n0*mass_ion) # Reference Alfven speed. "
   ]
  },
  {
   "cell_type": "markdown",
   "id": "03d6f4cc-e7a6-43fe-9cf2-25efb0b99c46",
   "metadata": {
    "collapsed": true,
    "jupyter": {
     "outputs_hidden": true
    }
   },
   "source": [
    "### $\\texttt{Gkeyll}$ and $\\texttt{postgkyl}$\n",
    "\n",
    "The code we will be using is [$\\texttt{Gkeyll}$](https://gkeyll.readthedocs.io/), a general purpose simulation framework for a variety of fluid and plasma systems. You can download and install $\\texttt{Gkeyll}$ yourself by following the installation instructions on our [Github repo](https://github.com/ammarhakim/gkylzero). \n",
    "\n",
    "To read the data, we will utilize the post-processing suite we have developed alongside $\\texttt{Gkeyll}$, [$\\texttt{postgkyl}$](https://github.com/ammarhakim/postgkyl), which you can also download and install via the instructions on Github. The cluster we will be utilizing for analyzing the results of our simulations already has installations of $\\texttt{Gkeyll}$ and $\\texttt{postgkyl}$; we already imported postgkyl in this Jupyter Notebook, so if we did not have $\\texttt{postgkyl}$, that import command would not have worked! \n",
    "\n",
    "The output of $\\texttt{Gkeyll}$ simulations can be manipulated in one of two ways: through the GData class, which retains useful metadata from the simulation to subsequent operations, or by directly fetching the raw values and grid and storing them in Numpy arrays for our subsequent manipulations."
   ]
  },
  {
   "cell_type": "code",
   "execution_count": 5,
   "id": "4d8b6a7d-759f-4f24-9c93-efba62b67002",
   "metadata": {},
   "outputs": [
    {
     "name": "stdout",
     "output_type": "stream",
     "text": [
      "executing cell on test_cpu...\n",
      "waiting for cell to finish on test_cpu...\n",
      "cell finished on test_cpu.\n"
     ]
    }
   ],
   "source": [
    "def read_data(filebase, data_type, frame, zs=[None]*6):\n",
    "    raw_data = pg.data.GData(\"%s-%s_%d.gkyl\" % (filebase, data_type, frame), z0=zs[0], z1=zs[1], z2=zs[2], z3=zs[3], z4=zs[4], z5=zs[5]) \n",
    "    data = raw_data.get_values()  \n",
    "    time = raw_data.ctx['time']\n",
    "    # Same grid for all electrons, ions, and EM fields\n",
    "    coords = raw_data.get_grid()\n",
    "    # Center the grid values\n",
    "    for d in range(len(coords)):\n",
    "        coords[d] = 0.5*(coords[d][:-1] + coords[d][1:])\n",
    "\n",
    "    return coords, data, time\n",
    "\n",
    "def data_range(coords, lowerLimits, upperLimits):\n",
    "    dims = len(coords)\n",
    "    zs = [None]*6\n",
    "    for d in range(dims):\n",
    "        idxs = np.searchsorted(coords[d], [lowerLimits[d], upperLimits[d]])\n",
    "        if idxs[0] == idxs[1]: \n",
    "            zs[d] = '{0}'.format(idxs[0])\n",
    "        else:\n",
    "            zs[d] = '{0}:{1}'.format(idxs[0], idxs[1])\n",
    "    return zs"
   ]
  },
  {
   "cell_type": "code",
   "execution_count": 6,
   "id": "fa193291-42bd-4a40-ac33-3b9c63aed2fa",
   "metadata": {},
   "outputs": [
    {
     "name": "stdout",
     "output_type": "stream",
     "text": [
      "executing cell on test_cpu...\n",
      "waiting for cell to finish on test_cpu...\n",
      "cell finished on test_cpu.\n"
     ]
    }
   ],
   "source": [
    "filebase = data_path + \"LAPD3D5Mg0\" #Filename base\n",
    "startFrame = 0; endFrame = 150; skipFrames = 1 #Start and end frames to be read. skipFrames defines the stride\n",
    "lowerLimits = [0.,  0., 0.2] #lowerLimits of data to read in units defined in input file\n",
    "upperLimits = [0.,  0.,  1.e6] #upperLimits of data"
   ]
  },
  {
   "cell_type": "markdown",
   "id": "30a18540-2bfd-4fee-bbc3-9518f1572e87",
   "metadata": {},
   "source": [
    "Here, we will only be looking at EM field data; however, you can read in moment data by changing data_type to elc or ion, where the names can be determined from the output filenames. The final index in the data array is the component of the EM field or moment data. A glossary of the components can be found below\n",
    "\n",
    "field\n",
    "\n",
    "0 - 2 = Ex, Ey, Ez\n",
    "\n",
    "3 - 5 = Bx, By, Bz\n",
    "\n",
    "6, 7 = auxilliary fields\n",
    "\n",
    "moment data\n",
    "\n",
    "0 = rho = mass*density\n",
    "\n",
    "1 - 3 = rho*u_i = momentum density\n",
    "\n",
    "4 = energy =  density * temperature / (gas_gamma - 1) + 0.5 * rho (ux^2 + uy^2 + uz^2)"
   ]
  },
  {
   "cell_type": "code",
   "execution_count": 7,
   "id": "2bebfdd7-deea-421c-a341-d0d2357f39ca",
   "metadata": {},
   "outputs": [
    {
     "name": "stdout",
     "output_type": "stream",
     "text": [
      "executing cell on test_cpu...\n",
      "waiting for cell to finish on test_cpu...\n",
      "cell finished on test_cpu.\n"
     ]
    }
   ],
   "source": [
    "data_type = \"field\" #field for EM fields, elc for electron moments, ion for ion moments. Follows naming convention of output files.\n",
    "coords, data, time = read_data(filebase, data_type, startFrame) #Initial read needed for data range selection\n",
    "zs = data_range(coords, lowerLimits, upperLimits) #Setup range of data to read"
   ]
  },
  {
   "cell_type": "code",
   "execution_count": 8,
   "id": "aa42b2e8-6d9f-4178-8e7d-18eaf968ab33",
   "metadata": {},
   "outputs": [
    {
     "name": "stdout",
     "output_type": "stream",
     "text": [
      "executing cell on test_cpu...\n",
      "waiting for cell to finish on test_cpu...\n",
      "cell finished on test_cpu.\n"
     ]
    }
   ],
   "source": [
    "#Read in all selected EM field data\n",
    "\n",
    "frames = np.arange(startFrame, endFrame+1, skipFrames); nt=len(frames)\n",
    "timeseries = []\n",
    "time = np.zeros(nt)\n",
    "for it in range(nt):\n",
    "    coords, data, time[it] = read_data(filebase, data_type, frames[it], zs)\n",
    "    timeseries.append(data)\n",
    "timeseries = np.array(timeseries) #Array shape (time, x, y, z, component)"
   ]
  },
  {
   "cell_type": "code",
   "execution_count": 9,
   "id": "283c034e-ed0e-46f4-96c4-da42b5cbd9cb",
   "metadata": {},
   "outputs": [
    {
     "name": "stdout",
     "output_type": "stream",
     "text": [
      "executing cell on test_cpu...\n",
      "waiting for cell to finish on test_cpu...\n"
     ]
    },
    {
     "data": {
      "image/png": "[encoded data removed]",
      "text/plain": [
       "<Figure size 640x480 with 2 Axes>"
      ]
     },
     "metadata": {},
     "output_type": "display_data"
    },
    {
     "name": "stdout",
     "output_type": "stream",
     "text": [
      "cell finished on test_cpu.\n"
     ]
    }
   ],
   "source": [
    "Ex = timeseries[...,0]\n",
    "Ey = timeseries[...,1]\n",
    "Bx = timeseries[...,3]\n",
    "By = timeseries[...,4]\n",
    "z = coords[2]\n",
    "\n",
    "maxLim = np.max(abs(By))\n",
    "plt.figure()\n",
    "plt.pcolormesh(time*1e6, z, By[:,0,0,:].transpose(), cmap='bwr', shading='gouraud')\n",
    "plt.clim(-maxLim, maxLim)\n",
    "plt.colorbar()\n",
    "plt.xlabel(r'$t(\\mu s)$')\n",
    "plt.ylabel(r'$z(m)$')\n",
    "plt.title(r'$B_y(x=0,y=0,z,t)(T)$')\n",
    "plt.show()\n"
   ]
  },
  {
   "cell_type": "code",
   "execution_count": 10,
   "id": "9d552703-2c15-446c-9af7-419fcba14298",
   "metadata": {},
   "outputs": [
    {
     "name": "stdout",
     "output_type": "stream",
     "text": [
      "executing cell on test_cpu...\n",
      "waiting for cell to finish on test_cpu...\n"
     ]
    },
    {
     "data": {
      "image/png": "[encoded data removed]",
      "text/plain": [
       "<Figure size 640x480 with 1 Axes>"
      ]
     },
     "metadata": {},
     "output_type": "display_data"
    },
    {
     "name": "stdout",
     "output_type": "stream",
     "text": [
      "cell finished on test_cpu.\n"
     ]
    }
   ],
   "source": [
    "#Compute and plot axial Poynting flux\n",
    "Sz = (Ex*By - Ey*Bx) / mu0 \n",
    "iz = np.searchsorted(z, 3.) #Find index for z=3m\n",
    "\n",
    "plt.figure()\n",
    "plt.plot(time*1e6, Sz[:,0,0,iz].transpose(),'k', linewidth=2)\n",
    "plt.plot(time*1e6, np.zeros(nt), 'k')\n",
    "plt.xlabel(r'$t(\\mu s)$')\n",
    "plt.ylabel(r'$S_z(W/m^2)$')\n",
    "plt.title(r'$S_z(x=0,y=0,z=3m,t)$')\n",
    "plt.autoscale(enable=True, axis='both', tight=True)\n",
    "plt.show()"
   ]
  },
  {
   "cell_type": "code",
   "execution_count": 9,
   "id": "e637f08e-8b8f-42aa-9635-30e8c4c0757f",
   "metadata": {},
   "outputs": [
    {
     "name": "stdout",
     "output_type": "stream",
     "text": [
      "Terminated runtime=test_cpu. state={'experimentId': 'CS_Agent_755abb2b-4bc1-497b-b4cd-aa13651f8c5a', 'terminated': True}\n",
      "Switched to runtime=local.\n"
     ]
    }
   ],
   "source": [
    "%stop_runtime test_cpu\n",
    "%switch_runtime local"
   ]
  }
 ],
 "metadata": {
  "kernelspec": {
   "display_name": "Python 3 (ipykernel)",
   "language": "python",
   "name": "python3"
  },
  "language_info": {
   "codemirror_mode": {
    "name": "ipython",
    "version": 3
   },
   "file_extension": ".py",
   "mimetype": "text/x-python",
   "name": "python",
   "nbconvert_exporter": "python",
   "pygments_lexer": "ipython3",
   "version": "3.11.6"
  }
 },
 "nbformat": 4,
 "nbformat_minor": 5
}
