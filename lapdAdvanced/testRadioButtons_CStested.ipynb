{
 "cells": [
  {
   "cell_type": "code",
   "execution_count": 7,
   "id": "fc76a3fb-e9c1-4cce-a95c-e3b020137f65",
   "metadata": {},
   "outputs": [
    {
     "name": "stdout",
     "output_type": "stream",
     "text": [
      "0.00s - Debugger warning: It seems that frozen modules are being used, which may\n",
      "0.00s - make the debugger miss breakpoints. Please pass -Xfrozen_modules=off\n",
      "0.00s - to python to disable frozen modules.\n",
      "0.00s - Note: Debugging will proceed. Set PYDEVD_DISABLE_FILE_VALIDATION=1 to disable this validation.\n",
      "Available kernels:\n",
      "  python3    /opt/conda/share/jupyter/kernels/python3\n",
      "{\n",
      " \"argv\": [\n",
      "  \"/opt/conda/bin/python\",\n",
      "  \"-m\",\n",
      "  \"ipykernel_launcher\",\n",
      "  \"-f\",\n",
      "  \"{connection_file}\"\n",
      " ],\n",
      " \"display_name\": \"Python 3 (ipykernel)\",\n",
      " \"language\": \"python\",\n",
      " \"metadata\": {\n",
      "  \"debugger\": true\n",
      " }\n",
      "}Python 3.11.6\n",
      "\u001b[33mWARNING: The directory '/home/jovyan/.cache/pip' or its parent directory is not owned or is not writable by the current user. The cache has been disabled. Check the permissions and owner of that directory. If executing pip with sudo, you should use sudo's -H flag.\u001b[0m\u001b[33m\n",
      "\u001b[0mPackage                       Version\n",
      "----------------------------- ------------\n",
      "airavata-python-sdk           2.1.4.post4\n",
      "alembic                       1.12.0\n",
      "annotated-types               0.7.0\n",
      "anyio                         4.0.0\n",
      "argon2-cffi                   23.1.0\n",
      "argon2-cffi-bindings          21.2.0\n",
      "arrow                         1.3.0\n",
      "asttokens                     2.4.0\n",
      "async-generator               1.10\n",
      "async-lru                     2.0.4\n",
      "attrs                         23.1.0\n",
      "Babel                         2.13.0\n",
      "backcall                      0.2.0\n",
      "backports.functools-lru-cache 1.6.5\n",
      "bcrypt                        4.3.0\n",
      "beautifulsoup4                4.12.2\n",
      "bleach                        6.1.0\n",
      "blinker                       1.6.3\n",
      "boltons                       23.0.0\n",
      "Brotli                        1.1.0\n",
      "cached-property               1.5.2\n",
      "certifi                       2023.7.22\n",
      "certipy                       0.1.3\n",
      "cffi                          1.16.0\n",
      "charset-normalizer            3.3.0\n",
      "colorama                      0.4.6\n",
      "comm                          0.1.4\n",
      "conda                         23.9.0\n",
      "conda-package-handling        2.2.0\n",
      "conda_package_streaming       0.9.0\n",
      "configparser                  7.2.0\n",
      "cryptography                  41.0.4\n",
      "debugpy                       1.8.0\n",
      "decorator                     5.1.1\n",
      "defusedxml                    0.7.1\n",
      "entrypoints                   0.4\n",
      "exceptiongroup                1.1.3\n",
      "executing                     1.2.0\n",
      "fastjsonschema                2.18.1\n",
      "fqdn                          1.5.1\n",
      "gitdb                         4.0.12\n",
      "GitPython                     3.1.44\n",
      "greenlet                      3.0.0\n",
      "idna                          3.4\n",
      "importlib-metadata            6.8.0\n",
      "importlib-resources           6.1.0\n",
      "ipykernel                     6.25.2\n",
      "ipython                       8.16.1\n",
      "ipython-genutils              0.2.0\n",
      "ipywidgets                    8.1.5\n",
      "isoduration                   20.11.0\n",
      "jedi                          0.19.1\n",
      "Jinja2                        3.1.2\n",
      "json5                         0.9.14\n",
      "jsonpatch                     1.33\n",
      "jsonpointer                   2.4\n",
      "jsonschema                    4.19.1\n",
      "jsonschema-specifications     2023.7.1\n",
      "jupyter_client                8.4.0\n",
      "jupyter_core                  5.4.0\n",
      "jupyter-events                0.8.0\n",
      "jupyter-lsp                   2.2.0\n",
      "jupyter_server                2.8.0\n",
      "jupyter-server-mathjax        0.2.6\n",
      "jupyter_server_terminals      0.4.4\n",
      "jupyter-telemetry             0.1.0\n",
      "jupyterhub                    4.0.2\n",
      "jupyterlab                    4.0.7\n",
      "jupyterlab_git                0.51.1\n",
      "jupyterlab-pygments           0.2.2\n",
      "jupyterlab_server             2.25.0\n",
      "jupyterlab_widgets            3.0.13\n",
      "libmambapy                    1.5.2\n",
      "Mako                          1.2.4\n",
      "mamba                         1.5.2\n",
      "markdown-it-py                3.0.0\n",
      "MarkupSafe                    2.1.3\n",
      "matplotlib-inline             0.1.6\n",
      "mdurl                         0.1.2\n",
      "mistune                       3.0.1\n",
      "nbclassic                     1.0.0\n",
      "nbclient                      0.8.0\n",
      "nbconvert                     7.9.2\n",
      "nbdime                        4.0.2\n",
      "nbformat                      5.9.2\n",
      "nest-asyncio                  1.5.8\n",
      "notebook                      7.0.6\n",
      "notebook_shim                 0.2.3\n",
      "numpy                         2.3.1\n",
      "oauthlib                      3.2.2\n",
      "overrides                     7.4.0\n",
      "packaging                     23.2\n",
      "pamela                        1.1.0\n",
      "pandas                        2.3.0\n",
      "pandocfilters                 1.5.0\n",
      "paramiko                      3.5.1\n",
      "parso                         0.8.3\n",
      "pexpect                       4.8.0\n",
      "pickleshare                   0.7.5\n",
      "pip                           23.3\n",
      "pkgutil_resolve_name          1.3.10\n",
      "platformdirs                  3.11.0\n",
      "pluggy                        1.3.0\n",
      "prometheus-client             0.17.1\n",
      "prompt-toolkit                3.0.39\n",
      "psutil                        5.9.5\n",
      "ptyprocess                    0.7.0\n",
      "pure-eval                     0.2.2\n",
      "pycosat                       0.6.6\n",
      "pycparser                     2.21\n",
      "pycurl                        7.45.1\n",
      "pydantic                      2.11.7\n",
      "pydantic_core                 2.33.2\n",
      "Pygments                      2.16.1\n",
      "PyJWT                         2.8.0\n",
      "PyNaCl                        1.5.0\n",
      "pyOpenSSL                     23.2.0\n",
      "pysftp                        0.2.9\n",
      "PySocks                       1.7.1\n",
      "python-dateutil               2.8.2\n",
      "python-json-logger            2.0.7\n",
      "pytz                          2023.3.post1\n",
      "PyYAML                        6.0.1\n",
      "pyzmq                         25.1.1\n",
      "referencing                   0.30.2\n",
      "requests                      2.31.0\n",
      "requests-oauthlib             2.0.0\n",
      "rfc3339-validator             0.1.4\n",
      "rfc3986-validator             0.1.1\n",
      "rich                          14.0.0\n",
      "rpds-py                       0.10.6\n",
      "ruamel.yaml                   0.17.39\n",
      "ruamel.yaml.clib              0.2.7\n",
      "scp                           0.15.0\n",
      "Send2Trash                    1.8.2\n",
      "setuptools                    68.2.2\n",
      "six                           1.16.0\n",
      "smmap                         5.0.2\n",
      "sniffio                       1.3.0\n",
      "soupsieve                     2.5\n",
      "SQLAlchemy                    2.0.22\n",
      "stack-data                    0.6.2\n",
      "terminado                     0.17.1\n",
      "thrift                        0.22.0\n",
      "thrift-connector              0.24\n",
      "tinycss2                      1.2.1\n",
      "tomli                         2.0.1\n",
      "tornado                       6.3.3\n",
      "tqdm                          4.66.1\n",
      "traitlets                     5.11.2\n",
      "truststore                    0.8.0\n",
      "types-python-dateutil         2.8.19.14\n",
      "typing_extensions             4.14.0\n",
      "typing-inspection             0.4.1\n",
      "typing-utils                  0.1.0\n",
      "tzdata                        2025.2\n",
      "uri-template                  1.3.0\n",
      "urllib3                       2.0.7\n",
      "wcwidth                       0.2.8\n",
      "webcolors                     1.13\n",
      "webencodings                  0.5.1\n",
      "websocket-client              1.6.4\n",
      "wheel                         0.41.2\n",
      "widgetsnbextension            4.0.13\n",
      "zipp                          3.17.0\n",
      "zstandard                     0.21.0\n"
     ]
    }
   ],
   "source": [
    "!jupyter kernelspec list\n",
    "!cat /opt/conda/share/jupyter/kernels/python3/kernel.json\n",
    "!python --version\n",
    "!pip list"
   ]
  },
  {
   "cell_type": "code",
   "execution_count": 8,
   "id": "aa697a4a-e41f-44d7-b738-7436d71488ae",
   "metadata": {},
   "outputs": [
    {
     "name": "stdout",
     "output_type": "stream",
     "text": [
      "executing cell on test_cpu...\n",
      "waiting for cell to finish on test_cpu...\n",
      "Requirement already satisfied: jupyterlab_widgets in /export/cybershuttle-home/scratch/envs/5efadfec/lib/python3.11/site-packages (3.0.15)\n",
      "Note: you may need to restart the kernel to use updated packages.\n",
      "Requirement already satisfied: ipywidgets in /export/cybershuttle-home/scratch/envs/5efadfec/lib/python3.11/site-packages (8.1.7)\n",
      "Requirement already satisfied: comm>=0.1.3 in /export/cybershuttle-home/scratch/envs/5efadfec/lib/python3.11/site-packages (from ipywidgets) (0.2.2)\n",
      "Requirement already satisfied: ipython>=6.1.0 in /export/cybershuttle-home/scratch/envs/5efadfec/lib/python3.11/site-packages (from ipywidgets) (9.3.0)\n",
      "Requirement already satisfied: traitlets>=4.3.1 in /export/cybershuttle-home/scratch/envs/5efadfec/lib/python3.11/site-packages (from ipywidgets) (5.14.3)\n",
      "Requirement already satisfied: widgetsnbextension~=4.0.14 in /export/cybershuttle-home/scratch/envs/5efadfec/lib/python3.11/site-packages (from ipywidgets) (4.0.14)\n",
      "Requirement already satisfied: jupyterlab_widgets~=3.0.15 in /export/cybershuttle-home/scratch/envs/5efadfec/lib/python3.11/site-packages (from ipywidgets) (3.0.15)\n",
      "Requirement already satisfied: decorator in /export/cybershuttle-home/scratch/envs/5efadfec/lib/python3.11/site-packages (from ipython>=6.1.0->ipywidgets) (5.2.1)\n",
      "Requirement already satisfied: ipython-pygments-lexers in /export/cybershuttle-home/scratch/envs/5efadfec/lib/python3.11/site-packages (from ipython>=6.1.0->ipywidgets) (1.1.1)\n",
      "Requirement already satisfied: jedi>=0.16 in /export/cybershuttle-home/scratch/envs/5efadfec/lib/python3.11/site-packages (from ipython>=6.1.0->ipywidgets) (0.19.2)\n",
      "Requirement already satisfied: matplotlib-inline in /export/cybershuttle-home/scratch/envs/5efadfec/lib/python3.11/site-packages (from ipython>=6.1.0->ipywidgets) (0.1.7)\n",
      "Requirement already satisfied: pexpect>4.3 in /export/cybershuttle-home/scratch/envs/5efadfec/lib/python3.11/site-packages (from ipython>=6.1.0->ipywidgets) (4.9.0)\n",
      "Requirement already satisfied: prompt_toolkit<3.1.0,>=3.0.41 in /export/cybershuttle-home/scratch/envs/5efadfec/lib/python3.11/site-packages (from ipython>=6.1.0->ipywidgets) (3.0.51)\n",
      "Requirement already satisfied: pygments>=2.4.0 in /export/cybershuttle-home/scratch/envs/5efadfec/lib/python3.11/site-packages (from ipython>=6.1.0->ipywidgets) (2.19.1)\n",
      "Requirement already satisfied: stack_data in /export/cybershuttle-home/scratch/envs/5efadfec/lib/python3.11/site-packages (from ipython>=6.1.0->ipywidgets) (0.6.3)\n",
      "Requirement already satisfied: typing_extensions>=4.6 in /home/gateway-user/.local/lib/python3.11/site-packages (from ipython>=6.1.0->ipywidgets) (4.13.0)\n",
      "Requirement already satisfied: wcwidth in /export/cybershuttle-home/scratch/envs/5efadfec/lib/python3.11/site-packages (from prompt_toolkit<3.1.0,>=3.0.41->ipython>=6.1.0->ipywidgets) (0.2.13)\n",
      "Requirement already satisfied: parso<0.9.0,>=0.8.4 in /export/cybershuttle-home/scratch/envs/5efadfec/lib/python3.11/site-packages (from jedi>=0.16->ipython>=6.1.0->ipywidgets) (0.8.4)\n",
      "Requirement already satisfied: ptyprocess>=0.5 in /export/cybershuttle-home/scratch/envs/5efadfec/lib/python3.11/site-packages (from pexpect>4.3->ipython>=6.1.0->ipywidgets) (0.7.0)\n",
      "Requirement already satisfied: executing>=1.2.0 in /export/cybershuttle-home/scratch/envs/5efadfec/lib/python3.11/site-packages (from stack_data->ipython>=6.1.0->ipywidgets) (2.2.0)\n",
      "Requirement already satisfied: asttokens>=2.1.0 in /export/cybershuttle-home/scratch/envs/5efadfec/lib/python3.11/site-packages (from stack_data->ipython>=6.1.0->ipywidgets) (3.0.0)\n",
      "Requirement already satisfied: pure_eval in /export/cybershuttle-home/scratch/envs/5efadfec/lib/python3.11/site-packages (from stack_data->ipython>=6.1.0->ipywidgets) (0.2.3)\n",
      "Note: you may need to restart the kernel to use updated packages.\n",
      "cell finished on test_cpu.\n"
     ]
    }
   ],
   "source": [
    "#from https://ipywidgets.readthedocs.io/en/latest/user_install.html\n",
    "%pip install jupyterlab_widgets\n",
    "%pip install ipywidgets\n"
   ]
  },
  {
   "cell_type": "code",
   "execution_count": 1,
   "id": "91a6ae9a-c773-452e-afe6-95238b3614d0",
   "metadata": {},
   "outputs": [
    {
     "data": {
      "application/vnd.jupyter.widget-view+json": {
       "model_id": "af2e403af90f44a58e249de55d409229",
       "version_major": 2,
       "version_minor": 0
      },
      "text/plain": [
       "RadioButtons(description='What is your quest?', options=('To seek the holy grail!', \"I'm not telling.\"), value…"
      ]
     },
     "metadata": {},
     "output_type": "display_data"
    },
    {
     "data": {
      "application/vnd.jupyter.widget-view+json": {
       "model_id": "95081a730ceb458b99ba4023b7680c94",
       "version_major": 2,
       "version_minor": 0
      },
      "text/plain": [
       "RadioButtons(description='What is your favorite colour?', options=('Red', 'Blue', 'Green'), value='Red')"
      ]
     },
     "metadata": {},
     "output_type": "display_data"
    },
    {
     "data": {
      "application/vnd.jupyter.widget-view+json": {
       "model_id": "839bf651170f4fb4ab3e9eb8484c5607",
       "version_major": 2,
       "version_minor": 0
      },
      "text/plain": [
       "Label(value='What is the airspeed velocity of an unladen swallow? (m/s)')"
      ]
     },
     "metadata": {},
     "output_type": "display_data"
    },
    {
     "data": {
      "application/vnd.jupyter.widget-view+json": {
       "model_id": "7426efcb6eb345ef94c56ad52113737a",
       "version_major": 2,
       "version_minor": 0
      },
      "text/plain": [
       "FloatSlider(value=7.5, max=10.0)"
      ]
     },
     "metadata": {},
     "output_type": "display_data"
    },
    {
     "data": {
      "application/vnd.jupyter.widget-view+json": {
       "model_id": "fd3532ed5efd4eb6b6cffe29d53cf96e",
       "version_major": 2,
       "version_minor": 0
      },
      "text/plain": [
       "Label(value='')"
      ]
     },
     "metadata": {},
     "output_type": "display_data"
    }
   ],
   "source": [
    "from ipywidgets import widgets\n",
    "from ipywidgets import FloatSlider\n",
    "from IPython.display import display # Optional: to explicitly display the widget\n",
    "\n",
    "\n",
    "# Create a couple RadioButtons widgets\n",
    "optA = widgets.RadioButtons(\n",
    "    options=['To seek the holy grail!', 'I\\'m not telling.'],  #  Provide the list of options\n",
    "    description='What is your quest?', # Optional: Add a description\n",
    "    disabled=False  # Optional: Enable/disable the widget\n",
    ")\n",
    "optB = widgets.RadioButtons(\n",
    "    options=['Red', 'Blue', 'Green'],  #  Provide the list of options\n",
    "    description='What is your favorite colour?', # Optional: Add a description\n",
    "    disabled=False  # Optional: Enable/disable the widget\n",
    ")\n",
    "\n",
    "# Create a FloatSlider\n",
    "float_slider = widgets.FloatSlider(\n",
    "    value=7.5,\n",
    "    min=0.0,\n",
    "    max=10.0,\n",
    "    step=0.1,\n",
    "    readout=True  # Hide the default readout\n",
    ")\n",
    "\n",
    "value_display = widgets.Label() # Create a label widget to display the value\n",
    "\n",
    "def update_value_display(change):\n",
    "    value_display.value = f\"Answer: {change['new']:.1f}\"\n",
    "\n",
    "float_slider.observe(update_value_display, names='value') # Link the slider and the label\n",
    "description = widgets.Label(\"What is the airspeed velocity of an unladen swallow? (m/s)\")\n",
    "display(optA,optB,description,float_slider,value_display)\n",
    "\n"
   ]
  },
  {
   "cell_type": "code",
   "execution_count": 3,
   "id": "64ad5b33-88fc-44d1-8cf9-345f587fc616",
   "metadata": {},
   "outputs": [
    {
     "name": "stdout",
     "output_type": "stream",
     "text": [
      "You selected: To seek the holy grail!, Red, 7.5\n"
     ]
    }
   ],
   "source": [
    "# To get the selected option\n",
    "print(f\"You selected: {optA.value}, {optB.value}, {float_slider.value}\")"
   ]
  }
 ],
 "metadata": {
  "kernelspec": {
   "display_name": "Python 3 (ipykernel)",
   "language": "python",
   "name": "python3"
  },
  "language_info": {
   "codemirror_mode": {
    "name": "ipython",
    "version": 3
   },
   "file_extension": ".py",
   "mimetype": "text/x-python",
   "name": "python",
   "nbconvert_exporter": "python",
   "pygments_lexer": "ipython3",
   "version": "3.11.6"
  }
 },
 "nbformat": 4,
 "nbformat_minor": 5
}
